{
  "nbformat": 4,
  "nbformat_minor": 0,
  "metadata": {
    "colab": {
      "provenance": [],
      "authorship_tag": "ABX9TyM3cUpeqUaS5XJfxKs9jCjJ",
      "include_colab_link": true
    },
    "kernelspec": {
      "name": "python3",
      "display_name": "Python 3"
    },
    "language_info": {
      "name": "python"
    }
  },
  "cells": [
    {
      "cell_type": "markdown",
      "metadata": {
        "id": "view-in-github",
        "colab_type": "text"
      },
      "source": [
        "<a href=\"https://colab.research.google.com/github/srilatha934/Natural-Language-Processing/blob/main/task%208.ipynb\" target=\"_parent\"><img src=\"https://colab.research.google.com/assets/colab-badge.svg\" alt=\"Open In Colab\"/></a>"
      ]
    },
    {
      "cell_type": "code",
      "execution_count": null,
      "metadata": {
        "colab": {
          "base_uri": "https://localhost:8080/"
        },
        "id": "nSe3X-9TlUNT",
        "outputId": "11bc1017-791d-4b02-e9d8-a0ceebeb7bed"
      },
      "outputs": [
        {
          "output_type": "stream",
          "name": "stdout",
          "text": [
            "Sentence: ['I', 'eat', 'fish']\n",
            "Predicted POS tags: ['Noun', 'Verb', 'Noun']\n",
            "Probability of the sequence: 0.05376000000000001\n"
          ]
        }
      ],
      "source": [
        "import numpy as np\n",
        "\n",
        "# Example POS tags\n",
        "states = ['Noun', 'Verb']\n",
        "\n",
        "# Vocabulary\n",
        "vocab = ['I', 'eat', 'fish']\n",
        "\n",
        "# Transition probabilities: P(tag_t | tag_t-1)\n",
        "# For example: transition_probs['Noun']['Verb'] = P(Verb | Noun)\n",
        "transition_probs = {\n",
        "    'START': {'Noun': 0.6, 'Verb': 0.4},\n",
        "    'Noun': {'Noun': 0.3, 'Verb': 0.7},\n",
        "    'Verb': {'Noun': 0.8, 'Verb': 0.2}\n",
        "}\n",
        "\n",
        "# Emission probabilities: P(word | tag)\n",
        "emission_probs = {\n",
        "    'Noun': {'I': 0.5, 'eat': 0.1, 'fish': 0.4},\n",
        "    'Verb': {'I': 0.1, 'eat': 0.8, 'fish': 0.1}\n",
        "}\n",
        "\n",
        "def viterbi(obs, states, start_p, trans_p, emit_p):\n",
        "    V = [{}]  # Stores the highest probability of any path that reaches state s\n",
        "    path = {}\n",
        "\n",
        "    # Initialize base cases (t == 0)\n",
        "    for state in states:\n",
        "        V[0][state] = start_p['START'].get(state, 0) * emit_p[state].get(obs[0], 0)\n",
        "        path[state] = [state]\n",
        "\n",
        "    # Run Viterbi for t > 0\n",
        "    for t in range(1, len(obs)):\n",
        "        V.append({})\n",
        "        new_path = {}\n",
        "\n",
        "        for curr_state in states:\n",
        "            # Choose the best previous state and probability\n",
        "            (prob, prev_state) = max(\n",
        "                (V[t-1][prev_state] * trans_p[prev_state].get(curr_state, 0) * emit_p[curr_state].get(obs[t], 0), prev_state)\n",
        "                for prev_state in states\n",
        "            )\n",
        "            V[t][curr_state] = prob\n",
        "            new_path[curr_state] = path[prev_state] + [curr_state]\n",
        "\n",
        "        path = new_path\n",
        "\n",
        "    # Find the final most probable state\n",
        "    n = len(obs) - 1\n",
        "    (prob, state) = max((V[n][state], state) for state in states)\n",
        "    return (prob, path[state])\n",
        "\n",
        "# Example sentence\n",
        "sentence = ['I', 'eat', 'fish']\n",
        "\n",
        "probability, pos_tags = viterbi(sentence, states, transition_probs, transition_probs, emission_probs)\n",
        "\n",
        "print(f\"Sentence: {sentence}\")\n",
        "print(f\"Predicted POS tags: {pos_tags}\")\n",
        "print(f\"Probability of the sequence: {probability}\")\n"
      ]
    }
  ]
}